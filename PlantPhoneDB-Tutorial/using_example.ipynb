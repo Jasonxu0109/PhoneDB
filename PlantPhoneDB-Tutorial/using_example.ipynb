{
 "cells": [
  {
   "cell_type": "markdown",
   "metadata": {},
   "source": [
    "我们提供了复现PlantPhoneDB单细胞数据预处理结果所需的R代码。\n",
    "\n",
    "We provide the R script needed to reproduce the processed scRNA-seq datasets results of PlantPhoneDB."
   ]
  },
  {
   "cell_type": "code",
   "execution_count": null,
   "metadata": {},
   "outputs": [],
   "source": [
    "# 载入需要的R包\n",
    "# Load the required packages\n",
    "library(Seurat)\n",
    "library(sceasy)\n",
    "library(data.table)\n",
    "library(readxl)\n",
    "library(tidyverse)\n",
    "library(anndata)\n",
    "library(SeuratDisk)"
   ]
  },
  {
   "cell_type": "code",
   "execution_count": null,
   "metadata": {},
   "outputs": [],
   "source": [
    "# dataset: GSE114615 GSE121619 GSE122687 GSE123013 GSE123818 GSE141730 GSE155304 GSE158761 GSE161970 GSE161482 PRJNA577177\n",
    "# GSE161332 PRJNA646989_PRJNA646996_PRJNA647001 PRJNA637882 GSE157757 GSE146035\n",
    "# tissue: Root; Leaf; Cotyledon; Shoot; Ears\n",
    "# Species: Arabidopsis thaliana; Zea mays; Oryza sativa\n",
    "# file_type: txt; 10x"
   ]
  },
  {
   "cell_type": "code",
   "execution_count": null,
   "metadata": {},
   "outputs": [],
   "source": [
    "# GSE146035: GSM4363200 GSM4363201"
   ]
  },
  {
   "cell_type": "code",
   "execution_count": null,
   "metadata": {},
   "outputs": [],
   "source": [
    "# PRJNA577177"
   ]
  },
  {
   "cell_type": "code",
   "execution_count": null,
   "metadata": {},
   "outputs": [],
   "source": [
    "source('RNAAnnotateCelltype.r') # RNAAnnotateCelltype function from MAESTRO R package"
   ]
  },
  {
   "cell_type": "code",
   "execution_count": null,
   "metadata": {},
   "outputs": [],
   "source": [
    "# processing of GSE121619 dataset\n",
    "dataset <- 'GSE121619' # 设置要处理的数据集如：GSE121619\n",
    "# tissue type: Root; Leaf; Cotyledon; Shoot; Ears. \n",
    "tissue <- 'Root' # 设置组织来源如：根\n",
    "# Species: Arabidopsis thaliana; Zea mays; Oryza sativa\n",
    "Species <- 'Arabidopsis thaliana' # 设置物种如：拟南芥\n",
    "# file_type: txt; 10x\n",
    "file_type <- 'txt' # 设置要处理的数据集的格式如：根据GEO下载数据的格式有txt和10X的格式，可以设置txt或10x"
   ]
  },
  {
   "cell_type": "code",
   "execution_count": null,
   "metadata": {},
   "outputs": [],
   "source": [
    "# load dataset function\n",
    "read_data <- function(dataset,tissue,Species,file_type){\n",
    "    if(file_type=='10x'){\n",
    "        files <- list.dirs(path=dataset,recursive = F)\n",
    "        datasets <- lapply(files,function(f){\n",
    "            fn <- paste0(f,'/filtered_feature_bc_matrix')\n",
    "            print(f)\n",
    "            f <- unlist(strsplit(f,'/'))[2]\n",
    "            # Setup the Seurat objects\n",
    "            expr <- Read10X(fn)\n",
    "            obj <- CreateSeuratObject(counts = expr, project = f, min.cells = 3, min.features = 200) # 构建Seurat对象\n",
    "            obj <- subset(obj, subset = nFeature_RNA > 200 & nCount_RNA > 1000)\n",
    "            # SCTransform\n",
    "            obj <- SCTransform(obj, verbose = FALSE)\n",
    "            return(obj)\n",
    "        })\n",
    "    }else if(file_type=='txt'){\n",
    "        files <- list.files(dataset,pattern='txt',recursive = T)\n",
    "        datasets <- lapply(files,function(f){\n",
    "            fn <- paste0(dataset,'/',f)\n",
    "            f <- gsub('.txt','',f)\n",
    "            expr <- fread(fn)\n",
    "            expr <- data.frame(expr,check.names = F)\n",
    "            rownames(expr) <- expr$GENE\n",
    "            expr <- expr[,-1]\n",
    "            # Setup the Seurat objects\n",
    "            obj <- CreateSeuratObject(counts = expr, project = f, min.cells = 3, min.features = 200) # 构建Seurat对象\n",
    "            obj <- subset(obj, subset = nFeature_RNA > 200 & nCount_RNA > 1000)\n",
    "            # SCTransform\n",
    "            obj <- SCTransform(obj, verbose = FALSE)    \n",
    "            return(obj)\n",
    "        })\n",
    "    }\n",
    "    return(datasets)\n",
    "}"
   ]
  },
  {
   "cell_type": "code",
   "execution_count": null,
   "metadata": {},
   "outputs": [],
   "source": [
    "# load dataset\n",
    "datasets <- read_data(dataset,tissue,Species,file_type)"
   ]
  },
  {
   "cell_type": "code",
   "execution_count": null,
   "metadata": {
    "scrolled": true
   },
   "outputs": [],
   "source": [
    "# 数据整合\n",
    "if(length(datasets)>1){\n",
    "    # # select features that are repeatedly variable across datasets for integration\n",
    "    features <- SelectIntegrationFeatures(object.list = datasets, nfeatures = 8000)\n",
    "    # Run the PrepSCTIntegration() function prior to identifying anchors\n",
    "    datasets <- PrepSCTIntegration(object.list = datasets, anchor.features = features, verbose = TRUE)\n",
    "    datasets <- lapply(X = datasets, FUN = RunPCA, verbose = FALSE, features = features)\n",
    "    # Integration\n",
    "    anchors <- FindIntegrationAnchors(object.list = datasets, normalization.method = \"SCT\",\n",
    "                                         anchor.features = features, verbose = TRUE, reference=1,reduction = \"cca\")\n",
    "    objs <- IntegrateData(anchorset = anchors, normalization.method = \"SCT\", verbose = TRUE)\n",
    "    rm(features,datasets,anchors)\n",
    "}else{\n",
    "    objs <- datasets[[1]]\n",
    "    rm(datasets)\n",
    "}"
   ]
  },
  {
   "cell_type": "code",
   "execution_count": null,
   "metadata": {},
   "outputs": [],
   "source": [
    "# Run PCA\n",
    "objs <- RunPCA(objs, verbose = FALSE, approx = FALSE, npcs = 50)"
   ]
  },
  {
   "cell_type": "code",
   "execution_count": null,
   "metadata": {},
   "outputs": [],
   "source": [
    "# Run UMAP\n",
    "objs <- RunUMAP(objs, reduction = \"pca\", dims = 1:50, umap.method = \"umap-learn\", metric = \"correlation\")"
   ]
  },
  {
   "cell_type": "code",
   "execution_count": null,
   "metadata": {},
   "outputs": [],
   "source": [
    "# Run TSNE\n",
    "objs <- RunTSNE(objs, reduction = \"pca\",dims = 1:50,tsne.method = \"Rtsne\")"
   ]
  },
  {
   "cell_type": "code",
   "execution_count": null,
   "metadata": {},
   "outputs": [],
   "source": [
    "# Find nearest neighbors\n",
    "objs <- FindNeighbors(objs, reduction = \"pca\",dims = 1:50)"
   ]
  },
  {
   "cell_type": "code",
   "execution_count": null,
   "metadata": {},
   "outputs": [],
   "source": [
    "#  Find clusters\n",
    "objs <- FindClusters(objs, resolution = 0.5, algorithm = 2)"
   ]
  },
  {
   "cell_type": "code",
   "execution_count": null,
   "metadata": {},
   "outputs": [],
   "source": [
    "dataset"
   ]
  },
  {
   "cell_type": "code",
   "execution_count": null,
   "metadata": {},
   "outputs": [],
   "source": [
    "objs@project.name <- dataset"
   ]
  },
  {
   "cell_type": "code",
   "execution_count": null,
   "metadata": {},
   "outputs": [],
   "source": [
    "DefaultAssay(objs) <- 'SCT'"
   ]
  },
  {
   "cell_type": "code",
   "execution_count": null,
   "metadata": {},
   "outputs": [],
   "source": [
    "# 寻找差异基因\n",
    "# differentially expressed genes\n",
    "objs <- PrepSCTFindMarkers(object = objs)\n",
    "DEG <- FindAllMarkers(objs,\n",
    "                        logfc.threshold=0.25,\n",
    "                        min.diff.pct = 0.25,\n",
    "                        max.cells.per.ident = 10000,\n",
    "                        only.pos=T)"
   ]
  },
  {
   "cell_type": "code",
   "execution_count": null,
   "metadata": {},
   "outputs": [],
   "source": [
    "mark_gene <- DEG %>%\n",
    "    mutate(avg_logFC=avg_log2FC) %>%\n",
    "    filter(p_val_adj<0.05)"
   ]
  },
  {
   "cell_type": "code",
   "execution_count": null,
   "metadata": {},
   "outputs": [],
   "source": [
    "Species"
   ]
  },
  {
   "cell_type": "code",
   "execution_count": null,
   "metadata": {},
   "outputs": [],
   "source": [
    "# 下载已知的标记基因做细胞注释\n",
    "# cell type annotation using known marker genes from plantscrnadb (http://ibi.zju.edu.cn/plantscrnadb/download.php)\n",
    "if(Species=='Arabidopsis thaliana'){\n",
    "    signature <- readxl::read_excel('../ath_doi_202104.xlsx')\n",
    "}else if(Species=='Zea mays'){\n",
    "    signature <- readxl::read_excel('../zma_doi_202104.xlsx')\n",
    "    signature$Tissue[grepl('Shoot apical',signature$Tissue)] <- 'Shoot'\n",
    "}else if(Species=='Oryza sativa'){\n",
    "    signature <- readxl::read_excel('../osa_doi_202104.xlsx')\n",
    "}"
   ]
  },
  {
   "cell_type": "code",
   "execution_count": null,
   "metadata": {},
   "outputs": [],
   "source": [
    "# signature gene \n",
    "sig_gene <- signature %>%\n",
    "    as.data.frame() %>%\n",
    "    filter(Tissue==tissue) %>%\n",
    "    mutate(V1=`Cell Type`,V2=Cell_Marker) %>%\n",
    "    unique(.) %>%\n",
    "    select(V1,V2)"
   ]
  },
  {
   "cell_type": "code",
   "execution_count": null,
   "metadata": {},
   "outputs": [],
   "source": [
    "# cell type annotation by RNAAnnotateCelltype function from MAESTRO R package.\n",
    "objs <- RNAAnnotateCelltype(objs, mark_gene, sig_gene, min.score = 0.6)"
   ]
  },
  {
   "cell_type": "code",
   "execution_count": null,
   "metadata": {},
   "outputs": [],
   "source": [
    "# meta information\n",
    "meta <- read.csv(paste0(\"meta/\",dataset,\"_metaInfo.csv\"))\n",
    "objs@meta.data$Cells <- rownames(objs@meta.data)"
   ]
  },
  {
   "cell_type": "code",
   "execution_count": null,
   "metadata": {},
   "outputs": [],
   "source": [
    "objs@meta.data <- merge(objs@meta.data, meta, by.x=\"orig.ident\",by.y=\"geo_accession\",all.x = TRUE)\n",
    "rownames(objs@meta.data) <- objs@meta.data$Cells "
   ]
  },
  {
   "cell_type": "code",
   "execution_count": null,
   "metadata": {
    "scrolled": true
   },
   "outputs": [],
   "source": [
    "# save file in h5ad format\n",
    "convertFormat(objs, from=\"seurat\", to=\"anndata\",assay  =\"SCT\",\n",
    "                       outFile=paste0(\"datasets/\",dataset,'.h5ad'))"
   ]
  },
  {
   "cell_type": "code",
   "execution_count": null,
   "metadata": {},
   "outputs": [],
   "source": [
    "# save a single R object\n",
    "saveRDS(objs, file = paste0(\"D:\\\\project\\\\PlantPhoneDB\\\\datasets\\\\\",dataset,'.rds'))"
   ]
  }
 ],
 "metadata": {
  "kernelspec": {
   "display_name": "R",
   "language": "R",
   "name": "ir"
  },
  "language_info": {
   "codemirror_mode": "r",
   "file_extension": ".r",
   "mimetype": "text/x-r-source",
   "name": "R",
   "pygments_lexer": "r",
   "version": "4.0.2"
  }
 },
 "nbformat": 4,
 "nbformat_minor": 4
}
